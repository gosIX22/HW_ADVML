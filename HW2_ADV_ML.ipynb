{
 "cells": [
  {
   "cell_type": "markdown",
   "metadata": {},
   "source": [
    "#### 1."
   ]
  },
  {
   "cell_type": "markdown",
   "metadata": {},
   "source": [
    "Прочитайте и проанализируйте данные, выберите турниры, в которых есть данные о составах команд и повопросных результатах (поле mask в results.pkl). Для унификации предлагаю:\n",
    "\n",
    "    - взять в тренировочный набор турниры с dateStart из 2019 года; \n",
    "    - в тестовый — турниры с dateStart из 2020 года."
   ]
  },
  {
   "cell_type": "code",
   "execution_count": 1,
   "metadata": {},
   "outputs": [],
   "source": [
    "import os\n",
    "import pickle\n",
    "\n",
    "import numpy as np\n",
    "import pandas as pd\n",
    "from scipy.special import logit, expit\n",
    "from sklearn.linear_model import LogisticRegression, Ridge\n",
    "\n",
    "from collections import defaultdict, Counter\n",
    "from scipy.sparse import coo_matrix"
   ]
  },
  {
   "cell_type": "code",
   "execution_count": 2,
   "metadata": {},
   "outputs": [],
   "source": [
    "with open(\"results.pkl\", \"rb\") as f:\n",
    "    results = pickle.load(f)\n",
    "with open(\"tournaments.pkl\", \"rb\") as f:\n",
    "    tournaments = pickle.load(f)"
   ]
  },
  {
   "cell_type": "markdown",
   "metadata": {},
   "source": [
    "Выбираем игры от 2019 года с информацией по ответам и игрокам"
   ]
  },
  {
   "cell_type": "code",
   "execution_count": 3,
   "metadata": {},
   "outputs": [],
   "source": [
    "results_new = defaultdict(list)\n",
    "tournaments_new = {}\n",
    "\n",
    "for id, value in results.items():\n",
    "    y = int(tournaments[id][\"dateStart\"][0:4])\n",
    "    if y in [2019, 2020]:\n",
    "        for team in value:\n",
    "            mask = team.get(\"mask\", None)\n",
    "            team_members = team.get(\"teamMembers\", [])\n",
    "            if mask and team_members:\n",
    "                results_new[id].append(team)\n",
    "    else:\n",
    "        continue\n",
    "\n",
    "tournaments_new = {k: tournaments[k] for k, v in results_new.items()}\n",
    "results, tournaments = dict(results_new), tournaments_new"
   ]
  },
  {
   "cell_type": "code",
   "execution_count": 4,
   "metadata": {},
   "outputs": [
    {
     "data": {
      "text/plain": [
       "(848, 848)"
      ]
     },
     "execution_count": 4,
     "metadata": {},
     "output_type": "execute_result"
    }
   ],
   "source": [
    "len(results), len(tournaments)"
   ]
  },
  {
   "cell_type": "markdown",
   "metadata": {},
   "source": [
    "Делим данные на трейн и тест"
   ]
  },
  {
   "cell_type": "code",
   "execution_count": 5,
   "metadata": {},
   "outputs": [],
   "source": [
    "train_data, test_data = {}, {}\n",
    "for id, tournament in results.items():\n",
    "    y = int(tournaments[id][\"dateStart\"][0:4])\n",
    "    \n",
    "    if y == 2019:\n",
    "        train_data[id] = {\"tournament_name\": tournaments[id][\"name\"]}\n",
    "        team_results = []\n",
    "        for team_result in tournament:\n",
    "            team_info = {\"team_id\": team_result[\"team\"][\"id\"], \n",
    "                         \"mask\": team_result[\"mask\"], \n",
    "                         \"position\": team_result[\"position\"],\n",
    "                         \"teamMembers\": [team_member[\"player\"][\"id\"] for team_member in team_result['teamMembers']]}\n",
    "            team_results.append(team_info)\n",
    "        train_data[id][\"tournament_result\"] = team_results\n",
    "  \n",
    "    elif y == 2020:\n",
    "        test_data[id] = {\"tournament_name\": tournaments[id][\"name\"]}\n",
    "        team_results = []\n",
    "        for team_result in tournament:\n",
    "            team_info = {\"team_id\": team_result[\"team\"][\"id\"], \n",
    "                         \"mask\": team_result[\"mask\"], \n",
    "                         \"position\": team_result[\"position\"],\n",
    "                         \"teamMembers\": [team_member[\"player\"][\"id\"] for team_member in team_result['teamMembers']]}\n",
    "            team_results.append(team_info)\n",
    "        test_data[id][\"tournament_result\"] = team_results"
   ]
  },
  {
   "cell_type": "code",
   "execution_count": 9,
   "metadata": {},
   "outputs": [
    {
     "data": {
      "text/plain": [
       "(675, 173)"
      ]
     },
     "execution_count": 9,
     "metadata": {},
     "output_type": "execute_result"
    }
   ],
   "source": [
    "len(train_data), len(test_data)"
   ]
  },
  {
   "cell_type": "markdown",
   "metadata": {},
   "source": [
    "Заменяем id игроков, отсутствующих в тесте, и игроков, у которых мало игр"
   ]
  },
  {
   "cell_type": "code",
   "execution_count": 10,
   "metadata": {},
   "outputs": [],
   "source": [
    "games_by_player = Counter()\n",
    "for tournament in train_data.values():\n",
    "    for team in tournament[\"tournament_result\"]:\n",
    "        games_by_player += Counter({member: 1 for member in team[\"teamMembers\"]})\n",
    "\n",
    "low_exp_players = set()\n",
    "for member, games in games_by_player.most_common():\n",
    "    if games <= 5:\n",
    "        low_exp_players.add(member)\n",
    "\n",
    "y2019_players = set()\n",
    "for tournament in train_data.values():\n",
    "    for team in tournament[\"tournament_result\"]:\n",
    "        team[\"teamMembers\"] = set([-1 if member in low_exp_players else member for member in team[\"teamMembers\"]])\n",
    "        y2019_players.update(team[\"teamMembers\"])\n",
    "        \n",
    "for tournament in test_data.values():\n",
    "    for team in tournament[\"tournament_result\"]:\n",
    "        team[\"teamMembers\"] = set([-1 if member not in y2019_players else member for member in team[\"teamMembers\"]])"
   ]
  },
  {
   "cell_type": "code",
   "execution_count": 11,
   "metadata": {},
   "outputs": [
    {
     "data": {
      "text/plain": [
       "(675, 173)"
      ]
     },
     "execution_count": 11,
     "metadata": {},
     "output_type": "execute_result"
    }
   ],
   "source": [
    "len(train_data), len(test_data)"
   ]
  },
  {
   "cell_type": "code",
   "execution_count": 12,
   "metadata": {},
   "outputs": [],
   "source": [
    "members_and_questions = set()\n",
    "for id, tournament in train_data.items():\n",
    "    for team in tournament[\"tournament_result\"]:\n",
    "        members_and_questions.update(team[\"teamMembers\"])\n",
    "        questions_ids = (f\"{id}_{question_num}\" for question_num in range(len(team[\"mask\"])))\n",
    "        members_and_questions.update(questions_ids)\n",
    "members_and_questions = {v: i for i, v in enumerate(members_and_questions)}"
   ]
  },
  {
   "cell_type": "code",
   "execution_count": 13,
   "metadata": {},
   "outputs": [],
   "source": [
    "def prepare_data(data, train):\n",
    "    global members_and_questions\n",
    "    rows = []\n",
    "    cols = []\n",
    "    y = []\n",
    "    current_row = 0\n",
    "    for id, tournament in data.items():\n",
    "        for team in tournament[\"tournament_result\"]:\n",
    "            for quest_numb, mask in enumerate(team[\"mask\"]):\n",
    "                try:\n",
    "                    y.extend([int(mask)] * len(team[\"teamMembers\"]))\n",
    "                except ValueError:\n",
    "                    continue\n",
    "                for member in team[\"teamMembers\"]:\n",
    "                    rows.append(current_row)\n",
    "                    cols.append(members_and_questions[member])\n",
    "                    if train:    \n",
    "                        rows.append(current_row)\n",
    "                        cols.append(members_and_questions[f\"{id}_{quest_numb}\"])\n",
    "                    current_row += 1\n",
    "                \n",
    "    rows = np.asarray(rows, dtype=np.int32)\n",
    "    cols = np.asarray(cols, dtype=np.int32)\n",
    "    data = np.ones(len(rows))\n",
    "    y = np.asarray(y, dtype=np.int8)\n",
    "        \n",
    "    X = coo_matrix((data, (rows, cols)), shape=(len(y), len(members_and_questions)))\n",
    "    return X, y\n",
    "\n",
    "X_train, y_train = prepare_data(train_data, True)\n",
    "X_test, y_test = prepare_data(test_data, False)"
   ]
  },
  {
   "cell_type": "code",
   "execution_count": 14,
   "metadata": {},
   "outputs": [
    {
     "data": {
      "text/plain": [
       "((18000070, 49836), 18000070, (3795338, 49836), 3795338)"
      ]
     },
     "execution_count": 14,
     "metadata": {},
     "output_type": "execute_result"
    }
   ],
   "source": [
    "X_train.shape, len(y_train), X_test.shape, len(y_test)"
   ]
  },
  {
   "cell_type": "markdown",
   "metadata": {},
   "source": [
    "#### 2."
   ]
  },
  {
   "cell_type": "markdown",
   "metadata": {},
   "source": [
    "Постройте baseline-модель на основе линейной или логистической регрессии, которая будет обучать рейтинг-лист игроков. Замечания и подсказки:\n",
    "\n",
    "    - повопросные результаты — это фактически результаты броска монетки, и их предсказание скорее всего имеет отношение к бинарной классификации;\n",
    "    - в разных турнирах вопросы совсем разного уровня сложности, поэтому модель должна это учитывать; скорее всего, модель должна будет явно обучать не только силу каждого игрока, но и сложность каждого вопроса;\n",
    "    - для baseline-модели можно забыть о командах и считать, что повопросные результаты команды просто относятся к каждому из её игроков.\n"
   ]
  },
  {
   "cell_type": "markdown",
   "metadata": {},
   "source": [
    "С помощью модели логистической регресии будем предсказывать вероятность правильного ответа для отдельного игрока на конкретный вопрос, при этом на основе данных 2019 года считаем, что если команда ответила на вопрос верно, то и все игроки ответили верно на тот же вопрос"
   ]
  },
  {
   "cell_type": "code",
   "execution_count": 15,
   "metadata": {},
   "outputs": [
    {
     "name": "stderr",
     "output_type": "stream",
     "text": [
      "/opt/anaconda3/lib/python3.8/site-packages/sklearn/linear_model/_logistic.py:762: ConvergenceWarning: lbfgs failed to converge (status=1):\n",
      "STOP: TOTAL NO. of ITERATIONS REACHED LIMIT.\n",
      "\n",
      "Increase the number of iterations (max_iter) or scale the data as shown in:\n",
      "    https://scikit-learn.org/stable/modules/preprocessing.html\n",
      "Please also refer to the documentation for alternative solver options:\n",
      "    https://scikit-learn.org/stable/modules/linear_model.html#logistic-regression\n",
      "  n_iter_i = _check_optimize_result(\n"
     ]
    },
    {
     "data": {
      "text/plain": [
       "LogisticRegression()"
      ]
     },
     "execution_count": 15,
     "metadata": {},
     "output_type": "execute_result"
    }
   ],
   "source": [
    "model = LogisticRegression()\n",
    "model.fit(X_train, y_train)"
   ]
  },
  {
   "cell_type": "code",
   "execution_count": 16,
   "metadata": {},
   "outputs": [
    {
     "name": "stdout",
     "output_type": "stream",
     "text": [
      "0.5061998186976242\n",
      "0.6987877226649079\n"
     ]
    },
    {
     "data": {
      "text/plain": [
       "(18000070, 3795338)"
      ]
     },
     "execution_count": 16,
     "metadata": {},
     "output_type": "execute_result"
    }
   ],
   "source": [
    "from sklearn.metrics import log_loss\n",
    "\n",
    "predict_train = model.predict_proba(X_train)[:, 1]\n",
    "predict_test = model.predict_proba(X_test)[:, 1]\n",
    "\n",
    "print (log_loss(y_train, predict_train))\n",
    "print (log_loss(y_test, predict_test))\n",
    "print (len(predict_train), len(predict_test))"
   ]
  },
  {
   "cell_type": "markdown",
   "metadata": {},
   "source": [
    "#### 3."
   ]
  },
  {
   "cell_type": "markdown",
   "metadata": {},
   "source": [
    "Качество рейтинг-системы оценивается качеством предсказаний результатов турниров. Но сами повопросные результаты наши модели предсказывать вряд ли смогут, ведь неизвестно, насколько сложными окажутся вопросы в будущих турнирах; да и не нужны эти предсказания сами по себе. Поэтому:\n",
    "\n",
    "    - предложите способ предсказать результаты нового турнира с известными составами, но неизвестными вопросами, в виде ранжирования команд;\n",
    "    - в качестве метрики качества на тестовом наборе давайте считать ранговые корреляции Спирмена и Кендалла (их можно взять в пакете scipy) между реальным ранжированием в результатах турнира и предсказанным моделью, усреднённые по тестовому множеству турниров."
   ]
  },
  {
   "cell_type": "markdown",
   "metadata": {},
   "source": [
    "Для построения рейтинг-системы необходимо отсортировать команды в зависимости от того, как много игроков в них правильно отвечают на вопросы. Будем считать, что команда дает верный ответ при верном ответе хотя бы одного игрока.\n",
    "Готовим датафрейм с местами команд для тестовых данных."
   ]
  },
  {
   "cell_type": "code",
   "execution_count": 17,
   "metadata": {},
   "outputs": [],
   "source": [
    "tournament_ids = []\n",
    "team_ids = []\n",
    "positions = []\n",
    "for id, tournament in test_data.items():\n",
    "    for team in tournament[\"tournament_result\"]:\n",
    "        tournament_ids.append(id)\n",
    "        team_ids.append(team[\"team_id\"])\n",
    "        positions.append(team[\"position\"])\n",
    "\n",
    "true_positions = pd.DataFrame.from_dict({\n",
    "    'tournament_id': tournament_ids,\n",
    "    'team_id': team_ids,\n",
    "    'position_true': positions,\n",
    "})"
   ]
  },
  {
   "cell_type": "markdown",
   "metadata": {},
   "source": [
    "Готовим массивы с id игр и id команд с тем же размером, что и у предсказаний выше"
   ]
  },
  {
   "cell_type": "code",
   "execution_count": 18,
   "metadata": {},
   "outputs": [],
   "source": [
    "is_answered = []\n",
    "tournament_ids_test = []\n",
    "team_ids_test = []\n",
    "for id, tournament in test_data.items():\n",
    "    for team in tournament[\"tournament_result\"]:\n",
    "        team_id = team[\"team_id\"]\n",
    "        for answer in team[\"mask\"]:\n",
    "            try:\n",
    "                is_answered.extend([int(answer)] * len(team[\"teamMembers\"]))\n",
    "                tournament_ids_test.extend([id] * len(team[\"teamMembers\"]))\n",
    "                team_ids_test.extend([team_id] * len(team[\"teamMembers\"]))\n",
    "            except ValueError:\n",
    "                continue\n",
    "\n",
    "tournament_ids_test = np.asarray(tournament_ids_test, dtype=np.int32)\n",
    "team_ids_test = np.asarray(team_ids_test, dtype=np.int32)"
   ]
  },
  {
   "cell_type": "markdown",
   "metadata": {},
   "source": [
    "Готовим датафрейм с предсказанными местами команд для тестовых данных"
   ]
  },
  {
   "cell_type": "code",
   "execution_count": 19,
   "metadata": {},
   "outputs": [],
   "source": [
    "predicted_positions = pd.DataFrame.from_dict({\n",
    "    'tournament_id': tournament_ids_test,\n",
    "    'team_id': team_ids_test,\n",
    "    '1-predict': 1 - predict_test,\n",
    "})\n",
    "    \n",
    "predicted_positions = predicted_positions.groupby([\"tournament_id\", \"team_id\"]).agg(\"prod\").reset_index()\n",
    "predicted_positions[\"position_pred\"] = predicted_positions.groupby(\"tournament_id\")[\"1-predict\"].rank(\"dense\")"
   ]
  },
  {
   "cell_type": "code",
   "execution_count": 20,
   "metadata": {},
   "outputs": [
    {
     "name": "stdout",
     "output_type": "stream",
     "text": [
      "Ранговые корреляции Спирмена и Кендалла равны 0.7512559356926288 и 0.599376085519689\n"
     ]
    }
   ],
   "source": [
    "from scipy.stats import kendalltau, spearmanr\n",
    "\n",
    "merge = pd.merge(predicted_positions, true_positions, on=[\"tournament_id\", \"team_id\"])\n",
    "\n",
    "kendall = []\n",
    "spearman = []\n",
    "tournam_ids = merge['tournament_id'].unique()\n",
    "\n",
    "for tournam_id in tournam_ids:\n",
    "    kendall += [kendalltau(merge[merge['tournament_id']==tournam_id][\"position_pred\"], merge[merge['tournament_id']==tournam_id][\"position_true\"]).correlation]\n",
    "    spearman += [spearmanr(merge[merge['tournament_id']==tournam_id][\"position_pred\"], merge[merge['tournament_id']==tournam_id][\"position_true\"]).correlation] \n",
    "\n",
    "kendall = np.asarray(kendall)\n",
    "spearman = np.asarray(spearman)\n",
    "kendall[np.isnan(kendall)] = 0.0\n",
    "spearman[np.isnan(spearman)] = 0.0\n",
    "\n",
    "kendall_corr = np.mean(kendall)\n",
    "spearman_corr = np.mean(spearman)\n",
    "print ('Ранговые корреляции Спирмена и Кендалла равны', spearman_corr, 'и', kendall_corr)"
   ]
  },
  {
   "cell_type": "markdown",
   "metadata": {},
   "source": [
    "#### 4."
   ]
  },
  {
   "cell_type": "markdown",
   "metadata": {},
   "source": [
    "Теперь главное: ЧГК — это всё-таки командная игра. Поэтому:\n",
    "\n",
    "    - предложите способ учитывать то, что на вопрос отвечают сразу несколько игроков; скорее всего, понадобятся скрытые переменные; не стесняйтесь делать упрощающие предположения, но теперь переменные “игрок X ответил на вопрос Y” при условии данных должны стать зависимыми для игроков одной и той же команды;\n",
    "    - разработайте EM-схему для обучения этой модели, реализуйте её в коде;\n",
    "    - обучите несколько итераций, убедитесь, что целевые метрики со временем растут (скорее всего, ненамного, но расти должны), выберите лучшую модель, используя целевые метрики."
   ]
  },
  {
   "cell_type": "markdown",
   "metadata": {},
   "source": [
    "На Е шаге будем оценивать мат ожидание скрытой переменной Z для ответов игроков.\n",
    "Z будет определять событие ответа игрока при условии ответа команды.\n",
    "На М шаге оцениваем ответы игроков при имеющихся сложностях вопросов, опираясь на Z\n",
    "\n",
    "Готовим массивы с id игр, id команд, id игроков с тем же размером, что и X_train\n",
    "на каждого участника"
   ]
  },
  {
   "cell_type": "code",
   "execution_count": 21,
   "metadata": {},
   "outputs": [],
   "source": [
    "is_answered = []\n",
    "tournament_ids_train = []\n",
    "team_ids_train = []\n",
    "player_ids_train = []\n",
    "questions_train = []\n",
    "for id, tournament in train_data.items():\n",
    "    for team in tournament[\"tournament_result\"]:\n",
    "        team_id = team[\"team_id\"]\n",
    "        for question, answer in enumerate(team[\"mask\"]):\n",
    "            try:\n",
    "                is_answered.extend([int(answer)] * len(team[\"teamMembers\"]))\n",
    "                tournament_ids_train.extend([id] * len(team[\"teamMembers\"]))\n",
    "                team_ids_train.extend([team_id] * len(team[\"teamMembers\"]))\n",
    "                questions_train.extend([question] * len(team[\"teamMembers\"]))\n",
    "            except ValueError:\n",
    "                continue\n",
    "            for member in team[\"teamMembers\"]:\n",
    "                player_ids_train.append(member)\n",
    "\n",
    "tournament_ids_train = np.asarray(tournament_ids_train, dtype=np.int32)\n",
    "team_ids_train = np.asarray(team_ids_train, dtype=np.int32)\n",
    "questions_train = np.asarray(questions_train, dtype=np.int32)"
   ]
  },
  {
   "cell_type": "code",
   "execution_count": 22,
   "metadata": {},
   "outputs": [
    {
     "name": "stdout",
     "output_type": "stream",
     "text": [
      "На 1 шаге корреляция Кендалла - 0.6168274926391729, корреляция Спирмена: 0.7690108709847878\n",
      "На 2 шаге корреляция Кендалла - 0.620477918470916, корреляция Спирмена: 0.7721958280011267\n",
      "На 3 шаге корреляция Кендалла - 0.6228992944310386, корреляция Спирмена: 0.7743655065648926\n",
      "На 4 шаге корреляция Кендалла - 0.6243231856102744, корреляция Спирмена: 0.7753059254924446\n",
      "На 5 шаге корреляция Кендалла - 0.6247936899433085, корреляция Спирмена: 0.7753663756837581\n",
      "На 6 шаге корреляция Кендалла - 0.6234096493169606, корреляция Спирмена: 0.7746554825746125\n",
      "На 7 шаге корреляция Кендалла - 0.6233389986277601, корреляция Спирмена: 0.7745717327084001\n",
      "На 8 шаге корреляция Кендалла - 0.6232920656827367, корреляция Спирмена: 0.7745412022353775\n",
      "На 9 шаге корреляция Кендалла - 0.6234577045638449, корреляция Спирмена: 0.7746234400719666\n",
      "На 10 шаге корреляция Кендалла - 0.6232816406473747, корреляция Спирмена: 0.7745259957803728\n"
     ]
    }
   ],
   "source": [
    "for s in range(1, 11):\n",
    "    # E-шаг\n",
    "  \n",
    "    predicts_and_other_info = pd.DataFrame.from_dict({\n",
    "        'tournament_id': tournament_ids_train,\n",
    "        'team_id': team_ids_train,\n",
    "        'player_id': player_ids_train,\n",
    "        'questions': questions_train,\n",
    "        'predict': predict_train,\n",
    "      })\n",
    "    predicts_and_other_info[\"1-predict\"] = 1 - predicts_and_other_info[\"predict\"]\n",
    "  \n",
    "    predicts_by_teams = predicts_and_other_info.drop(columns=[\"player_id\", \"predict\"]).groupby([\"tournament_id\", \"team_id\", \"questions\"]).agg(\"prod\").reset_index()\n",
    "    predicts_by_teams[\"team_predict\"] = 1 - predicts_by_teams[\"1-predict\"]\n",
    "  \n",
    "    predicts_and_other_info = pd.merge(predicts_and_other_info.drop(columns=\"1-predict\"), predicts_by_teams.drop(columns=\"1-predict\"), on=[\"tournament_id\", \"team_id\", \"questions\"])\n",
    "    predicts_and_other_info[\"z\"] = predicts_and_other_info[\"predict\"] / predicts_and_other_info[\"team_predict\"]\n",
    "  \n",
    "    z = predicts_and_other_info[\"z\"].values\n",
    "    z = np.where(y_train == 0, 0, z)\n",
    "    z = np.clip(z, 1e-6, 1 - 1e-6)\n",
    "    \n",
    "    # M-шаг\n",
    "  \n",
    "    model = Ridge(alpha=5, solver=\"auto\", tol=0.0001)\n",
    "    model.fit(X_train, logit(z))\n",
    "    predict_train = expit(model.predict(X_train))\n",
    "    predict_test = expit(model.predict(X_test))\n",
    "    \n",
    "    predicted_positions = pd.DataFrame.from_dict({\n",
    "        'tournament_id': tournament_ids_test,\n",
    "        'team_id': team_ids_test,\n",
    "        '1-predict': 1 - predict_test,\n",
    "        })\n",
    "        \n",
    "    predicted_positions = predicted_positions.groupby([\"tournament_id\", \"team_id\"]).agg(\"prod\").reset_index()\n",
    "    predicted_positions[\"position_pred\"] = predicted_positions.groupby(\"tournament_id\")[\"1-predict\"].rank(\"dense\")\n",
    "  \n",
    "    merge = pd.merge(predicted_positions, true_positions, on=[\"tournament_id\", \"team_id\"])\n",
    "  \n",
    "    kendall = []\n",
    "    spearman = []\n",
    "    tournam_ids = merge['tournament_id'].unique()\n",
    "  \n",
    "    for tournam_id in tournam_ids:\n",
    "        kendall += [kendalltau(merge[merge['tournament_id']==tournam_id][\"position_pred\"], merge[merge['tournament_id']==tournam_id][\"position_true\"]).correlation]\n",
    "        spearman += [spearmanr(merge[merge['tournament_id']==tournam_id][\"position_pred\"], merge[merge['tournament_id']==tournam_id][\"position_true\"]).correlation] \n",
    "  \n",
    "    kendall = np.asarray(kendall)\n",
    "    spearman = np.asarray(spearman)\n",
    "    kendall[np.isnan(kendall)] = 0.0\n",
    "    spearman[np.isnan(spearman)] = 0.0\n",
    "  \n",
    "    kendall_corr = np.mean(kendall)\n",
    "    spearman_corr = np.mean(spearman)\n",
    "  \n",
    "    print(f\"На {s} шаге корреляция Кендалла - {kendall_corr}, корреляция Спирмена: {spearman_corr}\")"
   ]
  },
  {
   "cell_type": "markdown",
   "metadata": {},
   "source": [
    "#### 5."
   ]
  },
  {
   "cell_type": "markdown",
   "metadata": {},
   "source": [
    "А что там с вопросами? Постройте “рейтинг-лист” турниров по сложности вопросов. Соответствует ли он интуиции (например, на чемпионате мира в целом должны быть сложные вопросы, а на турнирах для школьников — простые)? Если будет интересно: постройте топ сложных и простых вопросов со ссылками на конкретные записи в базе вопросов ЧГК (это чисто техническое дело, тут никакого ML нету)."
   ]
  },
  {
   "cell_type": "code",
   "execution_count": 23,
   "metadata": {},
   "outputs": [],
   "source": [
    "tournaments_weights = set()\n",
    "for id, tournament in train_data.items():\n",
    "    for team in tournament[\"tournament_result\"]:\n",
    "        questions_ids = (f\"{id}_{question_num}\" for question_num in range(len(team[\"mask\"])))\n",
    "        tournaments_weights.update(questions_ids)\n",
    "tournaments_weights = {i: int(v.split(\"_\")[0]) for i, v in enumerate(tournaments_weights) if isinstance(v, str)}"
   ]
  },
  {
   "cell_type": "markdown",
   "metadata": {},
   "source": [
    "Отсортируем игры по сложности вопросов.\n",
    "Сложность вопросов будем находить через отношение суммы весов модели на количество вопросов для каждого турнира"
   ]
  },
  {
   "cell_type": "code",
   "execution_count": 24,
   "metadata": {},
   "outputs": [],
   "source": [
    "import heapq\n",
    "from urllib.parse import quote\n",
    "\n",
    "tournaments_level = defaultdict(lambda: [0, 0, 0]) # сумма весов, число вопросов, сложность вопросов\n",
    "\n",
    "for weight_index, weight in enumerate(model.coef_):\n",
    "    try:\n",
    "        tournament_id = tournaments_weights[weight_index]\n",
    "    except KeyError:\n",
    "        continue\n",
    "    tournaments_level[tournament_id][0] += weight\n",
    "    tournaments_level[tournament_id][1] += 1\n",
    "\n",
    "for _, difficulty in tournaments_level.items():\n",
    "    difficulty[2] = difficulty[0] / difficulty[1]\n",
    "\n",
    "hard_tournaments = [\n",
    "    train_data[key]['tournament_name'] for key, value in tournaments_level.items()\n",
    "    if -value[2] in heapq.nlargest(10, [-diff[2] for diff in tournaments_level.values()])\n",
    "]\n",
    "easy_tournaments = [\n",
    "    train_data[key]['tournament_name'] for key, value in tournaments_level.items()\n",
    "    if value[2] in heapq.nlargest(10, [diff[2] for diff in tournaments_level.values()])\n",
    "]"
   ]
  },
  {
   "cell_type": "code",
   "execution_count": 25,
   "metadata": {},
   "outputs": [
    {
     "name": "stdout",
     "output_type": "stream",
     "text": [
      "Турниры со сложными вопросами:\n",
      "Синхрон-lite. Выпуск XXII https://db.chgk.info/search/questions/%D0%A1%D0%B8%D0%BD%D1%85%D1%80%D0%BE%D0%BD-lite.%20%D0%92%D1%8B%D0%BF%D1%83%D1%81%D0%BA%20XXII\n",
      "Синхрон с человеческим лицом IV https://db.chgk.info/search/questions/%D0%A1%D0%B8%D0%BD%D1%85%D1%80%D0%BE%D0%BD%20%D1%81%20%D1%87%D0%B5%D0%BB%D0%BE%D0%B2%D0%B5%D1%87%D0%B5%D1%81%D0%BA%D0%B8%D0%BC%20%D0%BB%D0%B8%D1%86%D0%BE%D0%BC%20IV\n",
      "Уходящая натура https://db.chgk.info/search/questions/%D0%A3%D1%85%D0%BE%D0%B4%D1%8F%D1%89%D0%B0%D1%8F%20%D0%BD%D0%B0%D1%82%D1%83%D1%80%D0%B0\n",
      "Умлаут speсial: Сова в пабе https://db.chgk.info/search/questions/%D0%A3%D0%BC%D0%BB%D0%B0%D1%83%D1%82%20spe%D1%81ial%3A%20%D0%A1%D0%BE%D0%B2%D0%B0%20%D0%B2%20%D0%BF%D0%B0%D0%B1%D0%B5\n",
      "Первенство Сибири. Пролог https://db.chgk.info/search/questions/%D0%9F%D0%B5%D1%80%D0%B2%D0%B5%D0%BD%D1%81%D1%82%D0%B2%D0%BE%20%D0%A1%D0%B8%D0%B1%D0%B8%D1%80%D0%B8.%20%D0%9F%D1%80%D0%BE%D0%BB%D0%BE%D0%B3\n",
      "Зеркало Кубка Мюнхгаузена https://db.chgk.info/search/questions/%D0%97%D0%B5%D1%80%D0%BA%D0%B0%D0%BB%D0%BE%20%D0%9A%D1%83%D0%B1%D0%BA%D0%B0%20%D0%9C%D1%8E%D0%BD%D1%85%D0%B3%D0%B0%D1%83%D0%B7%D0%B5%D0%BD%D0%B0\n",
      "sin(CHRON) III https://db.chgk.info/search/questions/sin%28CHRON%29%20III\n",
      "Кубок ФИСИ. Спортивный интерес https://db.chgk.info/search/questions/%D0%9A%D1%83%D0%B1%D0%BE%D0%BA%20%D0%A4%D0%98%D0%A1%D0%98.%20%D0%A1%D0%BF%D0%BE%D1%80%D1%82%D0%B8%D0%B2%D0%BD%D1%8B%D0%B9%20%D0%B8%D0%BD%D1%82%D0%B5%D1%80%D0%B5%D1%81\n",
      "Другие берега https://db.chgk.info/search/questions/%D0%94%D1%80%D1%83%D0%B3%D0%B8%D0%B5%20%D0%B1%D0%B5%D1%80%D0%B5%D0%B3%D0%B0\n",
      "Межфакультетский кубок МГУ. Отбор №5 https://db.chgk.info/search/questions/%D0%9C%D0%B5%D0%B6%D1%84%D0%B0%D0%BA%D1%83%D0%BB%D1%8C%D1%82%D0%B5%D1%82%D1%81%D0%BA%D0%B8%D0%B9%20%D0%BA%D1%83%D0%B1%D0%BE%D0%BA%20%D0%9C%D0%93%D0%A3.%20%D0%9E%D1%82%D0%B1%D0%BE%D1%80%20%E2%84%965\n"
     ]
    }
   ],
   "source": [
    "print('Турниры со сложными вопросами:')\n",
    "for t in hard_tournaments:\n",
    "    print (t, 'https://db.chgk.info/search/questions/' + quote(t))"
   ]
  },
  {
   "cell_type": "code",
   "execution_count": 26,
   "metadata": {},
   "outputs": [
    {
     "name": "stdout",
     "output_type": "stream",
     "text": [
      "Турниры с простыми вопросами:\n",
      "Командум https://db.chgk.info/search/questions/%D0%9A%D0%BE%D0%BC%D0%B0%D0%BD%D0%B4%D1%83%D0%BC\n",
      "Синхронный кубок Беларуси https://db.chgk.info/search/questions/%D0%A1%D0%B8%D0%BD%D1%85%D1%80%D0%BE%D0%BD%D0%BD%D1%8B%D0%B9%20%D0%BA%D1%83%D0%B1%D0%BE%D0%BA%20%D0%91%D0%B5%D0%BB%D0%B0%D1%80%D1%83%D1%81%D0%B8\n",
      "KFC https://db.chgk.info/search/questions/KFC\n",
      "Умами https://db.chgk.info/search/questions/%D0%A3%D0%BC%D0%B0%D0%BC%D0%B8\n",
      "Чемпионат Минска. Лига Б. Тур первый https://db.chgk.info/search/questions/%D0%A7%D0%B5%D0%BC%D0%BF%D0%B8%D0%BE%D0%BD%D0%B0%D1%82%20%D0%9C%D0%B8%D0%BD%D1%81%D0%BA%D0%B0.%20%D0%9B%D0%B8%D0%B3%D0%B0%20%D0%91.%20%D0%A2%D1%83%D1%80%20%D0%BF%D0%B5%D1%80%D0%B2%D1%8B%D0%B9\n",
      "Синхрон студенческого фестиваля Этажи https://db.chgk.info/search/questions/%D0%A1%D0%B8%D0%BD%D1%85%D1%80%D0%BE%D0%BD%20%D1%81%D1%82%D1%83%D0%B4%D0%B5%D0%BD%D1%87%D0%B5%D1%81%D0%BA%D0%BE%D0%B3%D0%BE%20%D1%84%D0%B5%D1%81%D1%82%D0%B8%D0%B2%D0%B0%D0%BB%D1%8F%20%D0%AD%D1%82%D0%B0%D0%B6%D0%B8\n",
      "Гусарская лига. III сезон. II этап https://db.chgk.info/search/questions/%D0%93%D1%83%D1%81%D0%B0%D1%80%D1%81%D0%BA%D0%B0%D1%8F%20%D0%BB%D0%B8%D0%B3%D0%B0.%20III%20%D1%81%D0%B5%D0%B7%D0%BE%D0%BD.%20II%20%D1%8D%D1%82%D0%B0%D0%BF\n",
      "Гусарская лига. II сезон. IV этап https://db.chgk.info/search/questions/%D0%93%D1%83%D1%81%D0%B0%D1%80%D1%81%D0%BA%D0%B0%D1%8F%20%D0%BB%D0%B8%D0%B3%D0%B0.%20II%20%D1%81%D0%B5%D0%B7%D0%BE%D0%BD.%20IV%20%D1%8D%D1%82%D0%B0%D0%BF\n",
      "Мемориал памяти Михаила Басса https://db.chgk.info/search/questions/%D0%9C%D0%B5%D0%BC%D0%BE%D1%80%D0%B8%D0%B0%D0%BB%20%D0%BF%D0%B0%D0%BC%D1%8F%D1%82%D0%B8%20%D0%9C%D0%B8%D1%85%D0%B0%D0%B8%D0%BB%D0%B0%20%D0%91%D0%B0%D1%81%D1%81%D0%B0\n",
      "Январское диминуэндо https://db.chgk.info/search/questions/%D0%AF%D0%BD%D0%B2%D0%B0%D1%80%D1%81%D0%BA%D0%BE%D0%B5%20%D0%B4%D0%B8%D0%BC%D0%B8%D0%BD%D1%83%D1%8D%D0%BD%D0%B4%D0%BE\n"
     ]
    }
   ],
   "source": [
    "print('Турниры с простыми вопросами:')\n",
    "for t in easy_tournaments:\n",
    "    print (t, 'https://db.chgk.info/search/questions/' + quote(t))"
   ]
  },
  {
   "cell_type": "markdown",
   "metadata": {},
   "source": [
    "#### 6."
   ]
  },
  {
   "cell_type": "markdown",
   "metadata": {},
   "source": [
    "Бонус: постройте топ игроков по предсказанной вашей моделью силе игры, а рядом с именами игроков напишите общее число вопросов, которое они сыграли. Скорее всего, вы увидите, что топ занят игроками, которые сыграли совсем мало вопросов, около 100 или даже меньше; если вы поищете их в официальном рейтинге ЧГК, вы увидите, что это какие-то непонятные ноунеймы. В baseline-модели, скорее всего, такой эффект будет гораздо слабее.\n",
    "Это естественное свойство модели: за счёт EM-схемы влияние 1-2 удачно сыгранных турниров будет только усиливаться, потому что неудачных турниров, чтобы его компенсировать, у этих игроков нет. Более того, это не мешает метрикам качества, потому что если эти игроки сыграли всего 1-2 турнира в 2019-м, скорее всего они ничего или очень мало сыграли и в 2020, и их рейтинги никак не влияют на качество тестовых предсказаний. Но для реального рейтинга такое свойство, конечно, было бы крайне нежелательным. Давайте попробуем его исправить:\n",
    "\n",
    "    - сначала жёстко: выберите разумную отсечку по числу вопросов, учитывая, что в одном турнире их обычно 30-50;\n",
    "    - можно ли просто выбросить игроков, которые мало играли, и переобучить модель? почему? предложите, как нужно изменить модель, чтобы не учитывать слишком мало сыгравших, и переобучите модель;\n",
    "    - но всё-таки это не слишком хорошее решение: если выбрать маленькую отсечку, будут ноунеймы в топе, а если большую, то получится, что у нового игрока слишком долго не будет рейтинга; скорее всего, никакой “золотой середины” тут не получится;\n",
    "    - предложите более концептуальное решение для топа игроков в рейтинг-листе; если получится, реализуйте его на практике (за это уж точно будут серьёзные бонусные баллы)."
   ]
  },
  {
   "cell_type": "code",
   "execution_count": 27,
   "metadata": {},
   "outputs": [],
   "source": [
    "is_answered = []\n",
    "player_ids_test = []\n",
    "questions_test = []\n",
    "for id, tournament in test_data.items():\n",
    "    for team in tournament[\"tournament_result\"]:\n",
    "        for question, answer in enumerate(team[\"mask\"]):\n",
    "            try:\n",
    "                is_answered.extend([int(answer)] * len(team[\"teamMembers\"]))\n",
    "                questions_test.extend([question] * len(team[\"teamMembers\"]))\n",
    "            except ValueError:\n",
    "                continue\n",
    "            for member in team[\"teamMembers\"]:\n",
    "                player_ids_test.append(member)\n",
    "\n",
    "questions_test = np.asarray(questions_test, dtype=np.int32)"
   ]
  },
  {
   "cell_type": "code",
   "execution_count": 28,
   "metadata": {},
   "outputs": [],
   "source": [
    "df_test_players = pd.DataFrame.from_dict({\n",
    "  'tournament_id': tournament_ids_test,\n",
    "  'team_id': team_ids_test,\n",
    "  'player_id': player_ids_test,\n",
    "  'questions': questions_test,\n",
    "  'predict': predict_test,\n",
    "})\n",
    "df_test_players[\"1-predict\"] = 1 - df_test_players[\"predict\"]\n",
    "df_test_players[\"predict10\"] = df_test_players[\"predict\"]*10"
   ]
  },
  {
   "cell_type": "markdown",
   "metadata": {},
   "source": [
    "Перемножим значения предиктов для каждого игрока.\n",
    "Значит игроки с более высокими вероятностями ответов и будут иметь высокие позиции."
   ]
  },
  {
   "cell_type": "code",
   "execution_count": 29,
   "metadata": {},
   "outputs": [
    {
     "data": {
      "text/html": [
       "<div>\n",
       "<style scoped>\n",
       "    .dataframe tbody tr th:only-of-type {\n",
       "        vertical-align: middle;\n",
       "    }\n",
       "\n",
       "    .dataframe tbody tr th {\n",
       "        vertical-align: top;\n",
       "    }\n",
       "\n",
       "    .dataframe thead th {\n",
       "        text-align: right;\n",
       "    }\n",
       "</style>\n",
       "<table border=\"1\" class=\"dataframe\">\n",
       "  <thead>\n",
       "    <tr style=\"text-align: right;\">\n",
       "      <th></th>\n",
       "      <th>player_id</th>\n",
       "      <th>ratio</th>\n",
       "      <th>questions</th>\n",
       "      <th>tournaments</th>\n",
       "    </tr>\n",
       "  </thead>\n",
       "  <tbody>\n",
       "    <tr>\n",
       "      <th>548</th>\n",
       "      <td>7008</td>\n",
       "      <td>inf</td>\n",
       "      <td>1033</td>\n",
       "      <td>23</td>\n",
       "    </tr>\n",
       "    <tr>\n",
       "      <th>2421</th>\n",
       "      <td>30152</td>\n",
       "      <td>inf</td>\n",
       "      <td>1669</td>\n",
       "      <td>43</td>\n",
       "    </tr>\n",
       "    <tr>\n",
       "      <th>2192</th>\n",
       "      <td>27403</td>\n",
       "      <td>2.677945e+144</td>\n",
       "      <td>517</td>\n",
       "      <td>13</td>\n",
       "    </tr>\n",
       "    <tr>\n",
       "      <th>1595</th>\n",
       "      <td>19915</td>\n",
       "      <td>8.451044e+139</td>\n",
       "      <td>1047</td>\n",
       "      <td>25</td>\n",
       "    </tr>\n",
       "    <tr>\n",
       "      <th>1482</th>\n",
       "      <td>18332</td>\n",
       "      <td>6.570947e+126</td>\n",
       "      <td>1295</td>\n",
       "      <td>33</td>\n",
       "    </tr>\n",
       "    <tr>\n",
       "      <th>...</th>\n",
       "      <td>...</td>\n",
       "      <td>...</td>\n",
       "      <td>...</td>\n",
       "      <td>...</td>\n",
       "    </tr>\n",
       "    <tr>\n",
       "      <th>6462</th>\n",
       "      <td>116490</td>\n",
       "      <td>0.000000e+00</td>\n",
       "      <td>224</td>\n",
       "      <td>6</td>\n",
       "    </tr>\n",
       "    <tr>\n",
       "      <th>6463</th>\n",
       "      <td>116497</td>\n",
       "      <td>0.000000e+00</td>\n",
       "      <td>449</td>\n",
       "      <td>12</td>\n",
       "    </tr>\n",
       "    <tr>\n",
       "      <th>6465</th>\n",
       "      <td>116519</td>\n",
       "      <td>0.000000e+00</td>\n",
       "      <td>143</td>\n",
       "      <td>4</td>\n",
       "    </tr>\n",
       "    <tr>\n",
       "      <th>6466</th>\n",
       "      <td>116520</td>\n",
       "      <td>0.000000e+00</td>\n",
       "      <td>143</td>\n",
       "      <td>4</td>\n",
       "    </tr>\n",
       "    <tr>\n",
       "      <th>0</th>\n",
       "      <td>-1</td>\n",
       "      <td>0.000000e+00</td>\n",
       "      <td>361514</td>\n",
       "      <td>173</td>\n",
       "    </tr>\n",
       "  </tbody>\n",
       "</table>\n",
       "<p>13439 rows × 4 columns</p>\n",
       "</div>"
      ],
      "text/plain": [
       "      player_id          ratio  questions  tournaments\n",
       "548        7008            inf       1033           23\n",
       "2421      30152            inf       1669           43\n",
       "2192      27403  2.677945e+144        517           13\n",
       "1595      19915  8.451044e+139       1047           25\n",
       "1482      18332  6.570947e+126       1295           33\n",
       "...         ...            ...        ...          ...\n",
       "6462     116490   0.000000e+00        224            6\n",
       "6463     116497   0.000000e+00        449           12\n",
       "6465     116519   0.000000e+00        143            4\n",
       "6466     116520   0.000000e+00        143            4\n",
       "0            -1   0.000000e+00     361514          173\n",
       "\n",
       "[13439 rows x 4 columns]"
      ]
     },
     "execution_count": 29,
     "metadata": {},
     "output_type": "execute_result"
    }
   ],
   "source": [
    "df_test_players_ratio = df_test_players[[\"player_id\", 'predict10']].groupby([\"player_id\"]).agg(\"prod\").reset_index()\n",
    "df_test_players_quest_numb = df_test_players[[\"player_id\", 'questions']].groupby([\"player_id\"]).agg(\"count\").reset_index()\n",
    "df_test_players_games = df_test_players[[\"player_id\", 'tournament_id']].drop_duplicates().reset_index()\n",
    "df_test_players_games = df_test_players_games.drop(columns=\"index\").groupby([\"player_id\"]).agg(\"count\").reset_index()\n",
    "merge = pd.merge(df_test_players_ratio, df_test_players_quest_numb, on=[\"player_id\"])\n",
    "merge = pd.merge(merge, df_test_players_games, on=[\"player_id\"])\n",
    "merge.columns = ['player_id', 'ratio', 'questions', 'tournaments']\n",
    "merge = merge.sort_values(by = 'ratio', ascending=False)\n",
    "merge"
   ]
  },
  {
   "cell_type": "code",
   "execution_count": 39,
   "metadata": {},
   "outputs": [],
   "source": [
    "best_players = list(merge['player_id'][0:5].values)\n",
    "best_members = {}\n",
    "for id, tournament in results.items():\n",
    "    y = int(tournaments[id][\"dateStart\"][0:4])\n",
    "    if y in [2020]:\n",
    "        for team_results in tournament:\n",
    "            for member in team_results['teamMembers']:\n",
    "                member_id = member['player']['id']\n",
    "                if member_id in best_players:\n",
    "                    best_members[best_players.index(member_id)+1] = [member['player']['name'] + ' ' + member['player']['surname'], member_id]"
   ]
  },
  {
   "cell_type": "code",
   "execution_count": 40,
   "metadata": {},
   "outputs": [],
   "source": [
    "import requests\n",
    "\n",
    "def get_real_pos(player_id):\n",
    "    url = f\"https://rating.chgk.info/api/players/{player_id}/rating/last\"\n",
    "    try:\n",
    "        pos = requests.get(url).json()['rating_position']\n",
    "    except:\n",
    "        pos = 0\n",
    "    return pos"
   ]
  },
  {
   "cell_type": "markdown",
   "metadata": {},
   "source": [
    "За счет того, что в разделе подготовки данных исключали игроков с числом игр до 5 в топ попали игроки, отыгравшие много вопросов.\n",
    "Реальные рейтинги этих игроков не на самых последних местах, модель справилась неплохо."
   ]
  },
  {
   "cell_type": "code",
   "execution_count": 41,
   "metadata": {},
   "outputs": [
    {
     "name": "stdout",
     "output_type": "stream",
     "text": [
      "1: Алексей Гилёв, отыграно вопросов 1033, отыграно турниров 23, реальный рейтинг в базе ЧГК 30\n",
      "2: Артём Сорожкин, отыграно вопросов 1669, отыграно турниров 43, реальный рейтинг в базе ЧГК 1\n",
      "3: Максим Руссо, отыграно вопросов 517, отыграно турниров 13, реальный рейтинг в базе ЧГК 5\n",
      "4: Александр Марков, отыграно вопросов 1047, отыграно турниров 25, реальный рейтинг в базе ЧГК 51\n",
      "5: Александр Либер, отыграно вопросов 1295, отыграно турниров 33, реальный рейтинг в базе ЧГК 7\n"
     ]
    }
   ],
   "source": [
    "from sortedcontainers import SortedDict\n",
    "\n",
    "best_members = SortedDict(best_members)\n",
    "for k, v in best_members.items():\n",
    "    print(f\"{k}: {v[0]}, отыграно вопросов {merge[merge.player_id==v[1]].questions.values[0]}, отыграно турниров {merge[merge.player_id==v[1]].tournaments.values[0]},\",\n",
    "          f\"реальный рейтинг в базе ЧГК {get_real_pos(v[1])}\")"
   ]
  },
  {
   "cell_type": "markdown",
   "metadata": {},
   "source": [
    "#### 7."
   ]
  },
  {
   "cell_type": "markdown",
   "metadata": {},
   "source": [
    "Бонус: игроки со временем учатся играть лучше (а иногда бывает и наоборот). А в нашей модели получается, что первые неудачные турниры новичка будут тянуть его рейтинг вниз всю жизнь — это нехорошо, рейтинг должен быть достаточно гибким и иметь возможность меняться даже у игроков, отыгравших сотни турниров. Давайте попробуем этого добиться:\n",
    "\n",
    "    - если хватит вычислительных ресурсов, сначала сделайте baseline совсем без таких схем, обучив рейтинги на всех турнирах с повопросными результатами, а не только на турнирах 2019 года; улучшилось ли качество предсказаний на 2020?\n",
    "    - одну схему со временем мы уже использовали: брали для обучения только последний год турниров; примерно так делают, например, в теннисной чемпионской гонке; у этой схемы есть свои преимущества, но есть и недостатки (например, достаточно мало играть год, чтобы полностью пропасть из рейтинга);\n",
    "    - предложите варианты базовой модели или алгоритма её обучения, которые могли бы реализовать изменения рейтинга со временем; если получится, реализуйте их на практике, проверьте, улучшатся ли предсказания на 2020."
   ]
  },
  {
   "cell_type": "code",
   "execution_count": 42,
   "metadata": {},
   "outputs": [],
   "source": [
    "with open(\"results.pkl\", \"rb\") as f:\n",
    "    results = pickle.load(f)\n",
    "with open(\"tournaments.pkl\", \"rb\") as f:\n",
    "    tournaments = pickle.load(f)\n",
    "    \n",
    "results_upd = defaultdict(list)\n",
    "tournaments_upd = {}\n",
    "\n",
    "for id, value in results.items():\n",
    "    for team in value:\n",
    "        mask = team.get(\"mask\", None)\n",
    "        team_members = team.get(\"teamMembers\", [])\n",
    "        if mask and team_members:\n",
    "            results_upd[id].append(team)\n",
    "\n",
    "tournaments_upd = {k: tournaments[k] for k, v in results_upd.items()}\n",
    "results, tournaments = dict(results_upd), tournaments_upd"
   ]
  },
  {
   "cell_type": "code",
   "execution_count": 43,
   "metadata": {},
   "outputs": [],
   "source": [
    "train_data, test_data = {}, {}\n",
    "for id, tournament in results.items():\n",
    "    y = int(tournaments[id][\"dateStart\"][0:4])\n",
    "    \n",
    "    if y < 2020 and y >= 2015:\n",
    "        train_data[id] = {\"tournament_name\": tournaments[id][\"name\"]}\n",
    "        team_results = []\n",
    "        for team_result in tournament:\n",
    "            team_info = {\"team_id\": team_result[\"team\"][\"id\"], \n",
    "                         \"mask\": team_result[\"mask\"], \n",
    "                         \"position\": team_result[\"position\"],\n",
    "                         \"teamMembers\": [team_member[\"player\"][\"id\"] for team_member in team_result['teamMembers']]}\n",
    "            team_results.append(team_info)\n",
    "        train_data[id][\"tournament_result\"] = team_results\n",
    "    \n",
    "    elif y == 2020:\n",
    "        test_data[id] = {\"tournament_name\": tournaments[id][\"name\"]}\n",
    "        team_results = []\n",
    "        for team_result in tournament:\n",
    "            team_info = {\"team_id\": team_result[\"team\"][\"id\"], \n",
    "                         \"mask\": team_result[\"mask\"], \n",
    "                         \"position\": team_result[\"position\"],\n",
    "                         \"teamMembers\": [team_member[\"player\"][\"id\"] for team_member in team_result['teamMembers']]}\n",
    "            team_results.append(team_info)\n",
    "        test_data[id][\"tournament_result\"] = team_results"
   ]
  },
  {
   "cell_type": "code",
   "execution_count": 45,
   "metadata": {},
   "outputs": [
    {
     "name": "stderr",
     "output_type": "stream",
     "text": [
      "<ipython-input-45-0148a9722454>:4: TqdmDeprecationWarning: This function will be removed in tqdm==5.0.0\n",
      "Please use `tqdm.notebook.tqdm` instead of `tqdm.tqdm_notebook`\n",
      "  for tournament in tqdm.tqdm_notebook(train_data.values()):\n"
     ]
    },
    {
     "data": {
      "application/vnd.jupyter.widget-view+json": {
       "model_id": "a25c501f60414fd98d681046a079b04e",
       "version_major": 2,
       "version_minor": 0
      },
      "text/plain": [
       "HBox(children=(HTML(value=''), FloatProgress(value=0.0, max=2661.0), HTML(value='')))"
      ]
     },
     "metadata": {},
     "output_type": "display_data"
    },
    {
     "name": "stdout",
     "output_type": "stream",
     "text": [
      "\n"
     ]
    },
    {
     "name": "stderr",
     "output_type": "stream",
     "text": [
      "<ipython-input-45-0148a9722454>:9: TqdmDeprecationWarning: This function will be removed in tqdm==5.0.0\n",
      "Please use `tqdm.notebook.tqdm` instead of `tqdm.tqdm_notebook`\n",
      "  for member, games in tqdm.tqdm_notebook(games_by_player.most_common()):\n"
     ]
    },
    {
     "data": {
      "application/vnd.jupyter.widget-view+json": {
       "model_id": "2b1f859077e549f79f01edff2476849e",
       "version_major": 2,
       "version_minor": 0
      },
      "text/plain": [
       "HBox(children=(HTML(value=''), FloatProgress(value=0.0, max=126304.0), HTML(value='')))"
      ]
     },
     "metadata": {},
     "output_type": "display_data"
    },
    {
     "name": "stdout",
     "output_type": "stream",
     "text": [
      "\n"
     ]
    },
    {
     "name": "stderr",
     "output_type": "stream",
     "text": [
      "<ipython-input-45-0148a9722454>:14: TqdmDeprecationWarning: This function will be removed in tqdm==5.0.0\n",
      "Please use `tqdm.notebook.tqdm` instead of `tqdm.tqdm_notebook`\n",
      "  for tournament in tqdm.tqdm_notebook(train_data.values()):\n"
     ]
    },
    {
     "data": {
      "application/vnd.jupyter.widget-view+json": {
       "model_id": "ae7d847bf73241ecbab79f063328c468",
       "version_major": 2,
       "version_minor": 0
      },
      "text/plain": [
       "HBox(children=(HTML(value=''), FloatProgress(value=0.0, max=2661.0), HTML(value='')))"
      ]
     },
     "metadata": {},
     "output_type": "display_data"
    },
    {
     "name": "stdout",
     "output_type": "stream",
     "text": [
      "\n"
     ]
    },
    {
     "name": "stderr",
     "output_type": "stream",
     "text": [
      "<ipython-input-45-0148a9722454>:19: TqdmDeprecationWarning: This function will be removed in tqdm==5.0.0\n",
      "Please use `tqdm.notebook.tqdm` instead of `tqdm.tqdm_notebook`\n",
      "  for tournament in tqdm.tqdm_notebook(test_data.values()):\n"
     ]
    },
    {
     "data": {
      "application/vnd.jupyter.widget-view+json": {
       "model_id": "328967bdb60848338844f3ed658ae534",
       "version_major": 2,
       "version_minor": 0
      },
      "text/plain": [
       "HBox(children=(HTML(value=''), FloatProgress(value=0.0, max=173.0), HTML(value='')))"
      ]
     },
     "metadata": {},
     "output_type": "display_data"
    },
    {
     "name": "stdout",
     "output_type": "stream",
     "text": [
      "\n"
     ]
    }
   ],
   "source": [
    "import tqdm\n",
    "\n",
    "games_by_player = Counter()\n",
    "for tournament in tqdm.tqdm_notebook(train_data.values()):\n",
    "    for team in tournament[\"tournament_result\"]:\n",
    "        games_by_player += Counter({member: 1 for member in team[\"teamMembers\"]})\n",
    "\n",
    "low_exp_players = set()\n",
    "for member, games in tqdm.tqdm_notebook(games_by_player.most_common()):\n",
    "    if games <= 5:\n",
    "        low_exp_players.add(member)\n",
    "\n",
    "y2019_players = set()\n",
    "for tournament in tqdm.tqdm_notebook(train_data.values()):\n",
    "    for team in tournament[\"tournament_result\"]:\n",
    "        team[\"teamMembers\"] = set([-1 if member in low_exp_players else member for member in team[\"teamMembers\"]])\n",
    "        y2019_players.update(team[\"teamMembers\"])\n",
    "        \n",
    "for tournament in tqdm.tqdm_notebook(test_data.values()):\n",
    "    for team in tournament[\"tournament_result\"]:\n",
    "        team[\"teamMembers\"] = set([-1 if member not in y2019_players else member for member in team[\"teamMembers\"]])"
   ]
  },
  {
   "cell_type": "code",
   "execution_count": 46,
   "metadata": {},
   "outputs": [
    {
     "data": {
      "text/plain": [
       "60"
      ]
     },
     "execution_count": 46,
     "metadata": {},
     "output_type": "execute_result"
    }
   ],
   "source": [
    "import gc\n",
    "\n",
    "gc.collect()"
   ]
  },
  {
   "cell_type": "code",
   "execution_count": 47,
   "metadata": {},
   "outputs": [],
   "source": [
    "members_and_questions = set()\n",
    "for id, tournament in train_data.items():\n",
    "    for team in tournament[\"tournament_result\"]:\n",
    "        members_and_questions.update(team[\"teamMembers\"])\n",
    "        questions_ids = (f\"{id}_{question_num}\" for question_num in range(len(team[\"mask\"])))\n",
    "        members_and_questions.update(questions_ids)\n",
    "members_and_questions = {v: i for i, v in enumerate(members_and_questions)}"
   ]
  },
  {
   "cell_type": "code",
   "execution_count": 48,
   "metadata": {},
   "outputs": [],
   "source": [
    "def prepare_data(data, train):\n",
    "    global members_and_questions\n",
    "    rows = []\n",
    "    cols = []\n",
    "    y = []\n",
    "    current_row = 0\n",
    "    for id, tournament in data.items():\n",
    "        for team in tournament[\"tournament_result\"]:\n",
    "            for quest_numb, mask in enumerate(team[\"mask\"]):\n",
    "                try:\n",
    "                    y.extend([int(mask)] * len(team[\"teamMembers\"]))\n",
    "                except ValueError:\n",
    "                    continue\n",
    "                for member in team[\"teamMembers\"]:\n",
    "                    rows.append(current_row)\n",
    "                    cols.append(members_and_questions[member])\n",
    "                    if train:    \n",
    "                        rows.append(current_row)\n",
    "                        cols.append(members_and_questions[f\"{id}_{quest_numb}\"])\n",
    "                    current_row += 1\n",
    "                \n",
    "    rows = np.asarray(rows, dtype=np.int32)\n",
    "    cols = np.asarray(cols, dtype=np.int32)\n",
    "    data = np.ones(len(rows))\n",
    "    y = np.asarray(y, dtype=np.int8)\n",
    "        \n",
    "    X = coo_matrix((data, (rows, cols)), shape=(len(y), len(members_and_questions)))\n",
    "    return X, y\n",
    "\n",
    "X_train, y_train = prepare_data(train_data, True)\n",
    "X_test, y_test = prepare_data(test_data, False)"
   ]
  },
  {
   "cell_type": "code",
   "execution_count": 49,
   "metadata": {},
   "outputs": [
    {
     "name": "stderr",
     "output_type": "stream",
     "text": [
      "/opt/anaconda3/lib/python3.8/site-packages/sklearn/linear_model/_logistic.py:762: ConvergenceWarning: lbfgs failed to converge (status=1):\n",
      "STOP: TOTAL NO. of ITERATIONS REACHED LIMIT.\n",
      "\n",
      "Increase the number of iterations (max_iter) or scale the data as shown in:\n",
      "    https://scikit-learn.org/stable/modules/preprocessing.html\n",
      "Please also refer to the documentation for alternative solver options:\n",
      "    https://scikit-learn.org/stable/modules/linear_model.html#logistic-regression\n",
      "  n_iter_i = _check_optimize_result(\n"
     ]
    },
    {
     "data": {
      "text/plain": [
       "LogisticRegression()"
      ]
     },
     "execution_count": 49,
     "metadata": {},
     "output_type": "execute_result"
    }
   ],
   "source": [
    "model = LogisticRegression()\n",
    "model.fit(X_train, y_train)"
   ]
  },
  {
   "cell_type": "code",
   "execution_count": 50,
   "metadata": {},
   "outputs": [
    {
     "name": "stdout",
     "output_type": "stream",
     "text": [
      "0.5123904175997495\n",
      "0.7177946312695239\n"
     ]
    }
   ],
   "source": [
    "from sklearn.metrics import log_loss\n",
    "\n",
    "predict_train = model.predict_proba(X_train)[:, 1]\n",
    "predict_test = model.predict_proba(X_test)[:, 1]\n",
    "\n",
    "print (log_loss(y_train, predict_train))\n",
    "print (log_loss(y_test, predict_test))"
   ]
  },
  {
   "cell_type": "markdown",
   "metadata": {},
   "source": [
    "Сформировать трейн за все время до 2020 года не вышло, так как не хватало памяти,\n",
    "но при расширении с 2015 по 2019 года результаты улучшились на пару десятых для обычной модели"
   ]
  },
  {
   "cell_type": "code",
   "execution_count": 51,
   "metadata": {},
   "outputs": [],
   "source": [
    "tournament_ids = []\n",
    "team_ids = []\n",
    "positions = []\n",
    "for id, tournament in test_data.items():\n",
    "    for team in tournament[\"tournament_result\"]:\n",
    "        tournament_ids.append(id)\n",
    "        team_ids.append(team[\"team_id\"])\n",
    "        positions.append(team[\"position\"])\n",
    "\n",
    "true_positions = pd.DataFrame.from_dict({\n",
    "    'tournament_id': tournament_ids,\n",
    "    'team_id': team_ids,\n",
    "    'position_true': positions,\n",
    "})"
   ]
  },
  {
   "cell_type": "code",
   "execution_count": 52,
   "metadata": {},
   "outputs": [],
   "source": [
    "is_answered = []\n",
    "tournament_ids_test = []\n",
    "team_ids_test = []\n",
    "for id, tournament in test_data.items():\n",
    "    for team in tournament[\"tournament_result\"]:\n",
    "        team_id = team[\"team_id\"]\n",
    "        for answer in team[\"mask\"]:\n",
    "            try:\n",
    "                is_answered.extend([int(answer)] * len(team[\"teamMembers\"]))\n",
    "                tournament_ids_test.extend([id] * len(team[\"teamMembers\"]))\n",
    "                team_ids_test.extend([team_id] * len(team[\"teamMembers\"]))\n",
    "            except ValueError:\n",
    "                continue\n",
    "\n",
    "tournament_ids_test = np.asarray(tournament_ids_test, dtype=np.int32)\n",
    "team_ids_test = np.asarray(team_ids_test, dtype=np.int32)"
   ]
  },
  {
   "cell_type": "code",
   "execution_count": 53,
   "metadata": {},
   "outputs": [],
   "source": [
    "predicted_positions = pd.DataFrame.from_dict({\n",
    "    'tournament_id': tournament_ids_test,\n",
    "    'team_id': team_ids_test,\n",
    "    '1-predict': 1 - predict_test,\n",
    "})\n",
    "    \n",
    "predicted_positions = predicted_positions.groupby([\"tournament_id\", \"team_id\"]).agg(\"prod\").reset_index()\n",
    "predicted_positions[\"position_pred\"] = predicted_positions.groupby(\"tournament_id\")[\"1-predict\"].rank(\"dense\")"
   ]
  },
  {
   "cell_type": "code",
   "execution_count": 54,
   "metadata": {},
   "outputs": [
    {
     "name": "stdout",
     "output_type": "stream",
     "text": [
      "Ранговые корреляции Спирмена и Кендалла равны 0.7605950640046922 и 0.6064447732744951\n"
     ]
    }
   ],
   "source": [
    "from scipy.stats import kendalltau, spearmanr\n",
    "\n",
    "merge = pd.merge(predicted_positions, true_positions, on=[\"tournament_id\", \"team_id\"])\n",
    "\n",
    "kendall = []\n",
    "spearman = []\n",
    "tournam_ids = merge['tournament_id'].unique()\n",
    "\n",
    "for tournam_id in tournam_ids:\n",
    "    kendall += [kendalltau(merge[merge['tournament_id']==tournam_id][\"position_pred\"], merge[merge['tournament_id']==tournam_id][\"position_true\"]).correlation]\n",
    "    spearman += [spearmanr(merge[merge['tournament_id']==tournam_id][\"position_pred\"], merge[merge['tournament_id']==tournam_id][\"position_true\"]).correlation] \n",
    "\n",
    "kendall = np.asarray(kendall)\n",
    "spearman = np.asarray(spearman)\n",
    "kendall[np.isnan(kendall)] = 0.0\n",
    "spearman[np.isnan(spearman)] = 0.0\n",
    "\n",
    "kendall_corr = np.mean(kendall)\n",
    "spearman_corr = np.mean(spearman)\n",
    "print ('Ранговые корреляции Спирмена и Кендалла равны', spearman_corr, 'и', kendall_corr)"
   ]
  }
 ],
 "metadata": {
  "kernelspec": {
   "display_name": "Python 3",
   "language": "python",
   "name": "python3"
  },
  "language_info": {
   "codemirror_mode": {
    "name": "ipython",
    "version": 3
   },
   "file_extension": ".py",
   "mimetype": "text/x-python",
   "name": "python",
   "nbconvert_exporter": "python",
   "pygments_lexer": "ipython3",
   "version": "3.8.5"
  }
 },
 "nbformat": 4,
 "nbformat_minor": 4
}
